{
 "cells": [
  {
   "cell_type": "code",
   "execution_count": 20,
   "id": "7bf5c28e-fea0-4e43-baaf-c000f5f399de",
   "metadata": {},
   "outputs": [],
   "source": [
    "import numpy as np\n",
    "from keras import layers\n",
    "from keras.layers import Input, Dense, Activation, ZeroPadding2D, BatchNormalization, Flatten, Conv2D\n",
    "from keras.layers import AveragePooling2D, MaxPooling2D, Dropout, GlobalMaxPooling2D, GlobalAveragePooling2D\n",
    "from keras.models import Model\n",
    "from tensorflow.keras.preprocessing import image\n",
    "from keras.utils import layer_utils\n",
    "from keras.utils.data_utils import get_file\n",
    "from keras.applications.imagenet_utils import preprocess_input\n",
    "import pydot\n",
    "from IPython.display import SVG\n",
    "from keras.utils.vis_utils import model_to_dot\n",
    "from keras.utils import plot_model\n",
    "from kt_utils import *\n",
    "\n",
    "import keras.backend as K\n",
    "K.set_image_data_format('channels_last')\n",
    "import matplotlib.pyplot as plt\n",
    "from matplotlib.pyplot import imshow\n",
    "\n",
    "%matplotlib inline"
   ]
  },
  {
   "cell_type": "code",
   "execution_count": 21,
   "id": "a81a898c-c477-4c74-9388-1a8c0a15f462",
   "metadata": {},
   "outputs": [
    {
     "name": "stdout",
     "output_type": "stream",
     "text": [
      "no. of training examples:  600\n",
      "no. of test examples:  150\n",
      "\n",
      "X_train.shape: (600, 64, 64, 3)\n",
      "Y_train.shape: (600, 1)\n",
      "\n",
      "X_test.shape: (150, 64, 64, 3)\n",
      "Y_test.shape: (150, 1)\n",
      "\n"
     ]
    }
   ],
   "source": [
    "X_train_orig,Y_train_orig,X_test_orig,Y_test_orig,classes = load_dataset()\n",
    "\n",
    "X_train = X_train_orig/255\n",
    "Y_train = Y_train_orig.T\n",
    "\n",
    "X_test = X_test_orig/255\n",
    "Y_test = Y_test_orig.T\n",
    "\n",
    "print(\"no. of training examples: \",X_train.shape[0])\n",
    "print(\"no. of test examples: \",X_test.shape[0])\n",
    "print()\n",
    "print(\"X_train.shape:\",X_train.shape)\n",
    "print(\"Y_train.shape:\",Y_train.shape)\n",
    "print()\n",
    "print(\"X_test.shape:\",X_test.shape)\n",
    "print(\"Y_test.shape:\",Y_test.shape)\n",
    "print()"
   ]
  },
  {
   "cell_type": "code",
   "execution_count": 57,
   "id": "a19dbd41-6fb3-41a0-a194-63ef5f5847a5",
   "metadata": {},
   "outputs": [],
   "source": [
    "def HappyModel(input_shape):\n",
    "\n",
    "    X_input = Input(input_shape)\n",
    "    X = ZeroPadding2D((3,3))(X_input)\n",
    "\n",
    "    X = Conv2D(32,(7,7),strides=(1,1),name='conv0')(X)\n",
    "    X = BatchNormalization(axis=3,name='bn0')(X)\n",
    "    X = Activation('relu')(X)\n",
    "\n",
    "    X = MaxPooling2D((2,2),name='maxpool0')(X)\n",
    "    \n",
    "    X = Flatten()(X)\n",
    "    X = Dense(1,activation='sigmoid',name='fc0')(X)\n",
    "\n",
    "    model = Model(inputs=X_input,outputs=X,name='happy_model')\n",
    "    return model"
   ]
  },
  {
   "cell_type": "code",
   "execution_count": 58,
   "id": "85156bf4-234b-4f83-9165-4ad525e0a503",
   "metadata": {},
   "outputs": [],
   "source": [
    "happy_model = HappyModel((64,64,3))"
   ]
  },
  {
   "cell_type": "code",
   "execution_count": 60,
   "id": "5599a22f-d483-4938-b919-5e07d6e2d681",
   "metadata": {},
   "outputs": [],
   "source": [
    "happy_model.compile(optimizer='Adam',loss='BinaryCrossentropy',metrics=['accuracy'])"
   ]
  },
  {
   "cell_type": "code",
   "execution_count": 61,
   "id": "f4599de0-b851-46a4-b419-2daff765ecde",
   "metadata": {},
   "outputs": [
    {
     "name": "stdout",
     "output_type": "stream",
     "text": [
      "Epoch 1/50\n",
      "10/10 [==============================] - 3s 202ms/step - loss: 2.7225 - accuracy: 0.5217\n",
      "Epoch 2/50\n",
      "10/10 [==============================] - 2s 216ms/step - loss: 0.6026 - accuracy: 0.7583\n",
      "Epoch 3/50\n",
      "10/10 [==============================] - 2s 246ms/step - loss: 0.3051 - accuracy: 0.8700\n",
      "Epoch 4/50\n",
      "10/10 [==============================] - 2s 211ms/step - loss: 0.1872 - accuracy: 0.9267\n",
      "Epoch 5/50\n",
      "10/10 [==============================] - 2s 208ms/step - loss: 0.1503 - accuracy: 0.9450\n",
      "Epoch 6/50\n",
      "10/10 [==============================] - 2s 251ms/step - loss: 0.1152 - accuracy: 0.9667\n",
      "Epoch 7/50\n",
      "10/10 [==============================] - 2s 201ms/step - loss: 0.1040 - accuracy: 0.9700\n",
      "Epoch 8/50\n",
      "10/10 [==============================] - 2s 221ms/step - loss: 0.1045 - accuracy: 0.9683\n",
      "Epoch 9/50\n",
      "10/10 [==============================] - 2s 238ms/step - loss: 0.0771 - accuracy: 0.9850\n",
      "Epoch 10/50\n",
      "10/10 [==============================] - 3s 253ms/step - loss: 0.0716 - accuracy: 0.9833\n",
      "Epoch 11/50\n",
      "10/10 [==============================] - 2s 237ms/step - loss: 0.0615 - accuracy: 0.9850\n",
      "Epoch 12/50\n",
      "10/10 [==============================] - 2s 228ms/step - loss: 0.0589 - accuracy: 0.9867\n",
      "Epoch 13/50\n",
      "10/10 [==============================] - 2s 207ms/step - loss: 0.0483 - accuracy: 0.9883\n",
      "Epoch 14/50\n",
      "10/10 [==============================] - 2s 216ms/step - loss: 0.0504 - accuracy: 0.9833\n",
      "Epoch 15/50\n",
      "10/10 [==============================] - 2s 231ms/step - loss: 0.0546 - accuracy: 0.9850\n",
      "Epoch 16/50\n",
      "10/10 [==============================] - 2s 216ms/step - loss: 0.0451 - accuracy: 0.9917\n",
      "Epoch 17/50\n",
      "10/10 [==============================] - 3s 248ms/step - loss: 0.0470 - accuracy: 0.9883\n",
      "Epoch 18/50\n",
      "10/10 [==============================] - 2s 244ms/step - loss: 0.0359 - accuracy: 0.9917\n",
      "Epoch 19/50\n",
      "10/10 [==============================] - 2s 236ms/step - loss: 0.0502 - accuracy: 0.9850\n",
      "Epoch 20/50\n",
      "10/10 [==============================] - 2s 235ms/step - loss: 0.0445 - accuracy: 0.9850\n",
      "Epoch 21/50\n",
      "10/10 [==============================] - 3s 247ms/step - loss: 0.0329 - accuracy: 0.9917\n",
      "Epoch 22/50\n",
      "10/10 [==============================] - 2s 213ms/step - loss: 0.0308 - accuracy: 0.9917\n",
      "Epoch 23/50\n",
      "10/10 [==============================] - 2s 218ms/step - loss: 0.0313 - accuracy: 0.9917\n",
      "Epoch 24/50\n",
      "10/10 [==============================] - 2s 252ms/step - loss: 0.0268 - accuracy: 0.9950\n",
      "Epoch 25/50\n",
      "10/10 [==============================] - 2s 226ms/step - loss: 0.0311 - accuracy: 0.9883\n",
      "Epoch 26/50\n",
      "10/10 [==============================] - 2s 228ms/step - loss: 0.0199 - accuracy: 0.9933\n",
      "Epoch 27/50\n",
      "10/10 [==============================] - 2s 228ms/step - loss: 0.0215 - accuracy: 0.9950\n",
      "Epoch 28/50\n",
      "10/10 [==============================] - 2s 216ms/step - loss: 0.0260 - accuracy: 0.9917\n",
      "Epoch 29/50\n",
      "10/10 [==============================] - 2s 227ms/step - loss: 0.0256 - accuracy: 0.9900\n",
      "Epoch 30/50\n",
      "10/10 [==============================] - 2s 240ms/step - loss: 0.0282 - accuracy: 0.9933\n",
      "Epoch 31/50\n",
      "10/10 [==============================] - 3s 244ms/step - loss: 0.0245 - accuracy: 0.9950\n",
      "Epoch 32/50\n",
      "10/10 [==============================] - 2s 227ms/step - loss: 0.0198 - accuracy: 0.9967\n",
      "Epoch 33/50\n",
      "10/10 [==============================] - 2s 232ms/step - loss: 0.0174 - accuracy: 0.9983\n",
      "Epoch 34/50\n",
      "10/10 [==============================] - 2s 209ms/step - loss: 0.0248 - accuracy: 0.9933\n",
      "Epoch 35/50\n",
      "10/10 [==============================] - 2s 243ms/step - loss: 0.0150 - accuracy: 0.9967\n",
      "Epoch 36/50\n",
      "10/10 [==============================] - 2s 222ms/step - loss: 0.0138 - accuracy: 0.9983\n",
      "Epoch 37/50\n",
      "10/10 [==============================] - 2s 220ms/step - loss: 0.0167 - accuracy: 0.9950\n",
      "Epoch 38/50\n",
      "10/10 [==============================] - 3s 255ms/step - loss: 0.0130 - accuracy: 0.9967\n",
      "Epoch 39/50\n",
      "10/10 [==============================] - 2s 232ms/step - loss: 0.0143 - accuracy: 0.9967\n",
      "Epoch 40/50\n",
      "10/10 [==============================] - 2s 241ms/step - loss: 0.0115 - accuracy: 0.9983\n",
      "Epoch 41/50\n",
      "10/10 [==============================] - 2s 222ms/step - loss: 0.0163 - accuracy: 0.9967\n",
      "Epoch 42/50\n",
      "10/10 [==============================] - 3s 255ms/step - loss: 0.0142 - accuracy: 0.9983\n",
      "Epoch 43/50\n",
      "10/10 [==============================] - 2s 242ms/step - loss: 0.0154 - accuracy: 0.9950\n",
      "Epoch 44/50\n",
      "10/10 [==============================] - 3s 262ms/step - loss: 0.0096 - accuracy: 0.9983\n",
      "Epoch 45/50\n",
      "10/10 [==============================] - 3s 248ms/step - loss: 0.0088 - accuracy: 1.0000\n",
      "Epoch 46/50\n",
      "10/10 [==============================] - 2s 240ms/step - loss: 0.0076 - accuracy: 0.9983\n",
      "Epoch 47/50\n",
      "10/10 [==============================] - 2s 235ms/step - loss: 0.0069 - accuracy: 1.0000\n",
      "Epoch 48/50\n",
      "10/10 [==============================] - 3s 255ms/step - loss: 0.0076 - accuracy: 0.9983\n",
      "Epoch 49/50\n",
      "10/10 [==============================] - 2s 233ms/step - loss: 0.0120 - accuracy: 0.9983\n",
      "Epoch 50/50\n",
      "10/10 [==============================] - 2s 234ms/step - loss: 0.0125 - accuracy: 0.9967\n"
     ]
    },
    {
     "data": {
      "text/plain": [
       "<keras.callbacks.History at 0x766ad55b5d10>"
      ]
     },
     "execution_count": 61,
     "metadata": {},
     "output_type": "execute_result"
    }
   ],
   "source": [
    "happy_model.fit(x = X_train,y = Y_train,epochs = 50,batch_size = 60)"
   ]
  },
  {
   "cell_type": "code",
   "execution_count": 62,
   "id": "8ff50a1e-565c-4c12-97a9-e1fb47e738c7",
   "metadata": {},
   "outputs": [
    {
     "name": "stdout",
     "output_type": "stream",
     "text": [
      "5/5 [==============================] - 1s 129ms/step - loss: 0.1245 - accuracy: 0.9400\n"
     ]
    }
   ],
   "source": [
    "preds = happy_model.evaluate(x = X_test,y = Y_test)"
   ]
  },
  {
   "cell_type": "code",
   "execution_count": 63,
   "id": "aeb275e2-379a-4401-975b-0fc7b6a17534",
   "metadata": {},
   "outputs": [
    {
     "name": "stdout",
     "output_type": "stream",
     "text": [
      "1/1 [==============================] - 0s 54ms/step\n",
      "[[0.]]\n"
     ]
    },
    {
     "data": {
      "image/png": "[encoded data removed]",
      "text/plain": [
       "<Figure size 640x480 with 1 Axes>"
      ]
     },
     "metadata": {},
     "output_type": "display_data"
    }
   ],
   "source": [
    "### START CODE HERE ###\n",
    "img_path = 'images/my_image.jpg'\n",
    "### END CODE HERE ###\n",
    "img = image.load_img(img_path, target_size=(64, 64))\n",
    "imshow(img)\n",
    "\n",
    "x = image.img_to_array(img)\n",
    "x = np.expand_dims(x, axis=0)\n",
    "x = preprocess_input(x)\n",
    "\n",
    "print(happy_model.predict(x))"
   ]
  },
  {
   "cell_type": "code",
   "execution_count": null,
   "id": "6617a6cc-64c3-49da-b520-27a92fa8af05",
   "metadata": {},
   "outputs": [],
   "source": []
  }
 ],
 "metadata": {
  "kernelspec": {
   "display_name": "Python 3 (ipykernel)",
   "language": "python",
   "name": "python3"
  },
  "language_info": {
   "codemirror_mode": {
    "name": "ipython",
    "version": 3
   },
   "file_extension": ".py",
   "mimetype": "text/x-python",
   "name": "python",
   "nbconvert_exporter": "python",
   "pygments_lexer": "ipython3",
   "version": "3.11.5"
  }
 },
 "nbformat": 4,
 "nbformat_minor": 5
}
